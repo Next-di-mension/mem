{
 "cells": [
  {
   "cell_type": "code",
   "execution_count": 1,
   "metadata": {},
   "outputs": [
    {
     "data": {
      "text/plain": [
       "dict_keys(['cirq', 'pyquil', 'qiskit', 'braket', 'pennylane'])"
      ]
     },
     "execution_count": 1,
     "metadata": {},
     "output_type": "execute_result"
    }
   ],
   "source": [
    "import mitiq\n",
    "\n",
    "mitiq.SUPPORTED_PROGRAM_TYPES.keys()"
   ]
  },
  {
   "cell_type": "code",
   "execution_count": 2,
   "metadata": {},
   "outputs": [
    {
     "name": "stdout",
     "output_type": "stream",
     "text": [
      "0: ───X───\n",
      "\n",
      "1: ───X───\n"
     ]
    }
   ],
   "source": [
    "from cirq import LineQubit, Circuit, X, measure_each\n",
    "\n",
    "from mitiq.observable.observable import Observable\n",
    "from mitiq.observable.pauli import PauliString\n",
    "\n",
    "qreg = [LineQubit(i) for i in range(2)]\n",
    "circuit = Circuit(X.on_each(*qreg))\n",
    "observable = Observable(PauliString(\"ZI\"), PauliString(\"IZ\"))\n",
    "\n",
    "print(circuit)"
   ]
  },
  {
   "cell_type": "code",
   "execution_count": 4,
   "metadata": {},
   "outputs": [
    {
     "name": "stdout",
     "output_type": "stream",
     "text": [
      "Collecting pytest\n",
      "  Downloading pytest-7.4.3-py3-none-any.whl (325 kB)\n",
      "Requirement already satisfied: colorama in c:\\users\\srushti\\appdata\\local\\packages\\pythonsoftwarefoundation.python.3.8_qbz5n2kfra8p0\\localcache\\local-packages\\python38\\site-packages (from pytest) (0.4.6)\n",
      "Collecting tomli>=1.0.0\n",
      "  Downloading tomli-2.0.1-py3-none-any.whl (12 kB)\n",
      "Requirement already satisfied: packaging in c:\\users\\srushti\\appdata\\local\\packages\\pythonsoftwarefoundation.python.3.8_qbz5n2kfra8p0\\localcache\\local-packages\\python38\\site-packages (from pytest) (23.1)\n",
      "Requirement already satisfied: exceptiongroup>=1.0.0rc8 in c:\\users\\srushti\\appdata\\local\\packages\\pythonsoftwarefoundation.python.3.8_qbz5n2kfra8p0\\localcache\\local-packages\\python38\\site-packages (from pytest) (1.1.1)\n",
      "Collecting iniconfig\n",
      "  Downloading iniconfig-2.0.0-py3-none-any.whl (5.9 kB)\n",
      "Collecting pluggy<2.0,>=0.12\n",
      "  Downloading pluggy-1.3.0-py3-none-any.whl (18 kB)\n",
      "Installing collected packages: tomli, pluggy, iniconfig, pytest\n",
      "Successfully installed iniconfig-2.0.0 pluggy-1.3.0 pytest-7.4.3 tomli-2.0.1\n",
      "Note: you may need to restart the kernel to use updated packages.\n"
     ]
    },
    {
     "name": "stderr",
     "output_type": "stream",
     "text": [
      "WARNING: Ignoring invalid distribution -iskit-terra (c:\\users\\srushti\\appdata\\local\\packages\\pythonsoftwarefoundation.python.3.8_qbz5n2kfra8p0\\localcache\\local-packages\\python38\\site-packages)\n",
      "WARNING: Ignoring invalid distribution - (c:\\users\\srushti\\appdata\\local\\packages\\pythonsoftwarefoundation.python.3.8_qbz5n2kfra8p0\\localcache\\local-packages\\python38\\site-packages)\n",
      "WARNING: Ignoring invalid distribution -iskit-terra (c:\\users\\srushti\\appdata\\local\\packages\\pythonsoftwarefoundation.python.3.8_qbz5n2kfra8p0\\localcache\\local-packages\\python38\\site-packages)\n",
      "WARNING: Ignoring invalid distribution - (c:\\users\\srushti\\appdata\\local\\packages\\pythonsoftwarefoundation.python.3.8_qbz5n2kfra8p0\\localcache\\local-packages\\python38\\site-packages)\n",
      "WARNING: Ignoring invalid distribution -iskit-terra (c:\\users\\srushti\\appdata\\local\\packages\\pythonsoftwarefoundation.python.3.8_qbz5n2kfra8p0\\localcache\\local-packages\\python38\\site-packages)\n",
      "WARNING: Ignoring invalid distribution - (c:\\users\\srushti\\appdata\\local\\packages\\pythonsoftwarefoundation.python.3.8_qbz5n2kfra8p0\\localcache\\local-packages\\python38\\site-packages)\n",
      "WARNING: Ignoring invalid distribution -iskit-terra (c:\\users\\srushti\\appdata\\local\\packages\\pythonsoftwarefoundation.python.3.8_qbz5n2kfra8p0\\localcache\\local-packages\\python38\\site-packages)\n",
      "WARNING: Ignoring invalid distribution - (c:\\users\\srushti\\appdata\\local\\packages\\pythonsoftwarefoundation.python.3.8_qbz5n2kfra8p0\\localcache\\local-packages\\python38\\site-packages)\n",
      "WARNING: Ignoring invalid distribution -iskit-terra (c:\\users\\srushti\\appdata\\local\\packages\\pythonsoftwarefoundation.python.3.8_qbz5n2kfra8p0\\localcache\\local-packages\\python38\\site-packages)\n",
      "WARNING: Ignoring invalid distribution - (c:\\users\\srushti\\appdata\\local\\packages\\pythonsoftwarefoundation.python.3.8_qbz5n2kfra8p0\\localcache\\local-packages\\python38\\site-packages)\n",
      "WARNING: Ignoring invalid distribution -iskit-terra (c:\\users\\srushti\\appdata\\local\\packages\\pythonsoftwarefoundation.python.3.8_qbz5n2kfra8p0\\localcache\\local-packages\\python38\\site-packages)\n",
      "WARNING: Ignoring invalid distribution - (c:\\users\\srushti\\appdata\\local\\packages\\pythonsoftwarefoundation.python.3.8_qbz5n2kfra8p0\\localcache\\local-packages\\python38\\site-packages)\n",
      "WARNING: Ignoring invalid distribution -iskit-terra (c:\\users\\srushti\\appdata\\local\\packages\\pythonsoftwarefoundation.python.3.8_qbz5n2kfra8p0\\localcache\\local-packages\\python38\\site-packages)\n",
      "WARNING: Ignoring invalid distribution - (c:\\users\\srushti\\appdata\\local\\packages\\pythonsoftwarefoundation.python.3.8_qbz5n2kfra8p0\\localcache\\local-packages\\python38\\site-packages)\n",
      "WARNING: Ignoring invalid distribution -iskit-terra (c:\\users\\srushti\\appdata\\local\\packages\\pythonsoftwarefoundation.python.3.8_qbz5n2kfra8p0\\localcache\\local-packages\\python38\\site-packages)\n",
      "WARNING: Ignoring invalid distribution - (c:\\users\\srushti\\appdata\\local\\packages\\pythonsoftwarefoundation.python.3.8_qbz5n2kfra8p0\\localcache\\local-packages\\python38\\site-packages)\n",
      "WARNING: Ignoring invalid distribution -iskit-terra (c:\\users\\srushti\\appdata\\local\\packages\\pythonsoftwarefoundation.python.3.8_qbz5n2kfra8p0\\localcache\\local-packages\\python38\\site-packages)\n",
      "WARNING: Ignoring invalid distribution - (c:\\users\\srushti\\appdata\\local\\packages\\pythonsoftwarefoundation.python.3.8_qbz5n2kfra8p0\\localcache\\local-packages\\python38\\site-packages)\n",
      "WARNING: Ignoring invalid distribution -iskit-terra (c:\\users\\srushti\\appdata\\local\\packages\\pythonsoftwarefoundation.python.3.8_qbz5n2kfra8p0\\localcache\\local-packages\\python38\\site-packages)\n",
      "WARNING: Ignoring invalid distribution - (c:\\users\\srushti\\appdata\\local\\packages\\pythonsoftwarefoundation.python.3.8_qbz5n2kfra8p0\\localcache\\local-packages\\python38\\site-packages)\n",
      "WARNING: You are using pip version 21.1.1; however, version 23.3.1 is available.\n",
      "You should consider upgrading via the 'C:\\Users\\Srushti\\AppData\\Local\\Microsoft\\WindowsApps\\PythonSoftwareFoundation.Python.3.8_qbz5n2kfra8p0\\python.exe -m pip install --upgrade pip' command.\n"
     ]
    }
   ],
   "source": [
    "pip install pytest"
   ]
  },
  {
   "cell_type": "code",
   "execution_count": 5,
   "metadata": {},
   "outputs": [],
   "source": [
    "from functools import partial\n",
    "\n",
    "import numpy as np\n",
    "from cirq.experiments.single_qubit_readout_calibration_test import (\n",
    "    NoisySingleQubitReadoutSampler,\n",
    ")\n",
    "\n",
    "from mitiq import MeasurementResult\n",
    "\n",
    "def noisy_readout_executor(circuit, p0, p1, shots=8192) -> MeasurementResult:\n",
    "    # Replace with code based on your frontend and backend.\n",
    "    simulator = NoisySingleQubitReadoutSampler(p0, p1)\n",
    "    result = simulator.run(circuit, repetitions=shots)\n",
    "    bitstrings = np.column_stack(list(result.measurements.values()))\n",
    "    return MeasurementResult(bitstrings, qubit_indices = (0, 1))"
   ]
  },
  {
   "cell_type": "code",
   "execution_count": 6,
   "metadata": {},
   "outputs": [
    {
     "name": "stdout",
     "output_type": "stream",
     "text": [
      "Error without mitigation: 0.505\n"
     ]
    }
   ],
   "source": [
    "from mitiq.raw import execute as raw_execute\n",
    "\n",
    "# Compute the expectation value of the observable.\n",
    "# Use a noisy executor that has a 25% chance of bit flipping\n",
    "p_flip = 0.25\n",
    "noisy_executor = partial(noisy_readout_executor, p0=p_flip, p1=p_flip)\n",
    "noisy_value = raw_execute(circuit, noisy_executor, observable)\n",
    "\n",
    "ideal_executor = partial(noisy_readout_executor, p0=0, p1=0)\n",
    "ideal_value = raw_execute(circuit, ideal_executor, observable)\n",
    "error = abs((ideal_value - noisy_value)/ideal_value)\n",
    "print(f\"Error without mitigation: {error:.3}\")"
   ]
  },
  {
   "cell_type": "code",
   "execution_count": 160,
   "metadata": {},
   "outputs": [],
   "source": [
    "import matplotlib.pyplot as plt\n",
    "import numpy as np\n",
    "\n",
    "import qiskit\n",
    "from qiskit.quantum_info import SparsePauliOp\n",
    "from qiskit import QuantumCircuit\n",
    "from qiskit.circuit import Parameter\n",
    "from qiskit_aer import Aer, AerSimulator\n",
    "from qiskit_aer.noise import NoiseModel\n",
    "from qiskit_aer.noise.errors.standard_errors import (\n",
    "    depolarizing_error,\n",
    ")\n",
    "\n",
    "from mitiq.zne import mitigate_executor\n",
    "from mitiq.zne.inference import RichardsonFactory, PolyFactory, ExpFactory, AdaExpFactory, AdaptiveFactory, LinearFactory"
   ]
  },
  {
   "cell_type": "code",
   "execution_count": 96,
   "metadata": {},
   "outputs": [],
   "source": [
    "phi1=Parameter('phi1')\n",
    "#phi2 = Parameter('phi2')\n",
    "\n",
    "def Hartree_Fock(qc):\n",
    "    qc.x(0)\n",
    "    qc.x(1)\n",
    "    qc.x(4)\n",
    "    qc.x(5)\n",
    "    return qc\n",
    "\n",
    "def first_excitation_circ(qc,i,k,theta):\n",
    "    qc.cx(k,i)\n",
    "    # controlled ry\n",
    "    qc.ry(theta, k)\n",
    "    qc.cx(i,k)\n",
    "    qc.ry(-theta, k)\n",
    "    qc.cx(i,k)\n",
    "\n",
    "    qc.cx(k,i)\n",
    "\n",
    "    return qc\n",
    "\n",
    "def double_excitation_circ(qc,i,j,k,l,theta):\n",
    "    qc.cx(l,k)\n",
    "    qc.cx(j,i)\n",
    "    qc.cx(l,j)\n",
    "    # 3 controlled ry\n",
    "    qc.ry(theta/4, l)\n",
    "    qc.cx(k,l,ctrl_state='0')\n",
    "    qc.ry(-theta/4, l)\n",
    "    qc.cx(i,l, ctrl_state='0')\n",
    "    qc.ry(theta/4, l)\n",
    "    qc.cx(k,l, ctrl_state='0')\n",
    "    qc.ry(-theta/4, l)\n",
    "    qc.cx(j,l)\n",
    "    qc.ry(theta/4, l)\n",
    "    qc.cx(k,l, ctrl_state='0')\n",
    "    qc.ry(-theta/4, l)\n",
    "    qc.cx(i,l, ctrl_state='0')\n",
    "    qc.ry(theta/4, l)\n",
    "    qc.cx(k,l, ctrl_state='0')\n",
    "    qc.ry(-theta/4, l)\n",
    "    qc.cx(j,l)\n",
    "\n",
    "    qc.cx(l,j)\n",
    "    qc.cx(j,i)\n",
    "    qc.cx(l,k)\n",
    "\n",
    "    return qc\n",
    "\n",
    "#list_T2 =[((1, 5), (2, 6)),((0,6),(3,7))]\n",
    "list_T2=[((4, 5), (6, 7)), ((0, 5), (2, 7)), ((0, 1), (2, 3)), ((1, 4), (3, 6)), ((1, 5), (2, 6)), ((1, 5), (3, 7)), ((0, 4), (2, 6)), ((0, 4), (3, 7)), ((0, 5), (3, 6)), ((1, 4), (2, 5)), ((1, 6), (2, 7)), ((1, 4), (2, 7)), ((5, 0), (6, 1)), ((5, 2), (6, 3))]\n",
    "\n",
    "list_T1=[((0,), (2,)), ((1,), (3,)), ((4,), (6,)), ((5,), (7,))]\n",
    "\n",
    "def create_ansatz(double_exit: list, paramaters: list, single_exit: list):\n",
    "\n",
    "    num_qubits = 8\n",
    "    qc = QuantumCircuit(num_qubits)\n",
    "    Hartree_Fock(qc)\n",
    "    for n in range(len(list_T2)):\n",
    "        double_excitation_circ(qc, double_exit[n][0][0], double_exit[n][0][1], double_exit[n][1][0], double_exit[n][1][1], paramaters[n])\n",
    "    for m in range(len(single_exit)):\n",
    "        first_excitation_circ(qc, single_exit[m][0], single_exit[m][1], paramaters[m+len(list_T2)])\n",
    "    return qc"
   ]
  },
  {
   "cell_type": "code",
   "execution_count": 90,
   "metadata": {},
   "outputs": [],
   "source": []
  },
  {
   "cell_type": "code",
   "execution_count": 17,
   "metadata": {},
   "outputs": [],
   "source": [
    "list_mitigated_result = []\n",
    "nuclear_repulsion_energy = 0.76436708244\n",
    "qubit_op = SparsePauliOp(['IIIIIIII', 'IIIIIIIZ', 'IIIIIIZI', 'IIIIIIZZ', 'IIIIYZYI', 'IIIIYZYZ', 'IIIIXZXI', 'IIIIXZXZ', 'IIIIIZII', 'IIIIIZIZ', 'IIIIZIII', 'IIIIZIIZ', 'IIIZIIII', 'IIIZIIIZ', 'IYZYIIII', 'IYZYIIIZ', 'IXZXIIII', 'IXZXIIIZ', 'IIZIIIII', 'IIZIIIIZ', 'YZYIIIII', 'YZYIIIIZ', 'XZXIIIII', 'XZXIIIIZ', 'IZIIIIII', 'IZIIIIIZ', 'ZIIIIIII', 'ZIIIIIIZ', 'IIIIIYZY', 'IIIIIYIY', 'IIIIIXZX', 'IIIIIXIX', 'IIIIYYYY', 'IIIIXXYY', 'IIIIYXXY', 'IIIIXYYX', 'IIIIYYXX', 'IIIIXXXX', 'IIYYIIYY', 'IIXXIIYY', 'IIYYIIXX', 'IIXXIIXX', 'YZZYIIYY', 'XZZXIIYY', 'YZZYIIXX', 'XZZXIIXX', 'IYYIIIYY', 'IXXIIIYY', 'IYYIIIXX', 'IXXIIIXX', 'YYIIIIYY', 'XXIIIIYY', 'YYIIIIXX', 'XXIIIIXX', 'IIIIZYZY', 'IIIIZXZX', 'IIIZIYZY', 'IIIZIXZX', 'IYZYIYZY', 'IXZXIYZY', 'IYZYIXZX', 'IXZXIXZX', 'IIZIIYZY', 'IIZIIXZX', 'YZYIIYZY', 'XZXIIYZY', 'YZYIIXZX', 'XZXIIXZX', 'IZIIIYZY', 'IZIIIXZX', 'ZIIIIYZY', 'ZIIIIXZX', 'IIYYYZZY', 'IIXXYZZY', 'IIYYXZZX', 'IIXXXZZX', 'YZZYYZZY', 'XZZXYZZY', 'YZZYXZZX', 'XZZXXZZX', 'IYYIYZZY', 'IXXIYZZY', 'IYYIXZZX', 'IXXIXZZX', 'YYIIYZZY', 'XXIIYZZY', 'YYIIXZZX', 'XXIIXZZX', 'IIIIIZZI', 'IIIIZIZI', 'IIIZIIZI', 'IYZYIIZI', 'IXZXIIZI', 'IIZIIIZI', 'YZYIIIZI', 'XZXIIIZI', 'IZIIIIZI', 'ZIIIIIZI', 'IIIIYIYI', 'IIIIXIXI', 'IIYYIYYI', 'IIXXIYYI', 'IIYYIXXI', 'IIXXIXXI', 'YZZYIYYI', 'XZZXIYYI', 'YZZYIXXI', 'XZZXIXXI', 'IYYIIYYI', 'IXXIIYYI', 'IYYIIXXI', 'IXXIIXXI', 'YYIIIYYI', 'XXIIIYYI', 'YYIIIXXI', 'XXIIIXXI', 'IIIZYZYI', 'IIIZXZXI', 'IYZYYZYI', 'IXZXYZYI', 'IYZYXZXI', 'IXZXXZXI', 'IIZIYZYI', 'IIZIXZXI', 'YZYIYZYI', 'XZXIYZYI', 'YZYIXZXI', 'XZXIXZXI', 'IZIIYZYI', 'IZIIXZXI', 'ZIIIYZYI', 'ZIIIXZXI', 'IIIIZZII', 'IIIZIZII', 'IYZYIZII', 'IXZXIZII', 'IIZIIZII', 'YZYIIZII', 'XZXIIZII', 'IZIIIZII', 'ZIIIIZII', 'IIYYYYII', 'IIXXYYII', 'IIYYXXII', 'IIXXXXII', 'YZZYYYII', 'XZZXYYII', 'YZZYXXII', 'XZZXXXII', 'IYYIYYII', 'IXXIYYII', 'IYYIXXII', 'IXXIXXII', 'YYIIYYII', 'XXIIYYII', 'YYIIXXII', 'XXIIXXII', 'IIIZZIII', 'IYZYZIII', 'IXZXZIII', 'IIZIZIII', 'YZYIZIII', 'XZXIZIII', 'IZIIZIII', 'ZIIIZIII', 'IIZZIIII', 'YZYZIIII', 'XZXZIIII', 'IZIZIIII', 'ZIIZIIII', 'IYIYIIII', 'IXIXIIII', 'YYYYIIII', 'XXYYIIII', 'YXXYIIII', 'XYYXIIII', 'YYXXIIII', 'XXXXIIII', 'ZYZYIIII', 'ZXZXIIII', 'IZZIIIII', 'ZIZIIIII', 'YIYIIIII', 'XIXIIIII', 'ZZIIIIII'],\n",
    "              coeffs=[-1.85502904e+00+0.j,  4.81583054e-02+0.j,  4.27360355e-02+0.j,\n",
    "  2.57891581e-02+0.j,  2.04558562e-03+0.j, -6.27464680e-03+0.j,\n",
    "  2.04558562e-03+0.j, -6.27464680e-03+0.j,  3.64529858e-02+0.j,\n",
    "  3.30007159e-02+0.j,  3.06300748e-02+0.j,  3.86135390e-02+0.j,\n",
    "  4.81583054e-02+0.j,  7.31661755e-02+0.j,  1.97123182e-03+0.j,\n",
    "  8.76339225e-03+0.j,  1.97123182e-03+0.j,  8.76339225e-03+0.j,\n",
    "  4.27360355e-02+0.j,  7.10045261e-02+0.j,  2.04558562e-03+0.j,\n",
    " -9.00548050e-03+0.j,  2.04558562e-03+0.j, -9.00548050e-03+0.j,\n",
    "  3.64529858e-02+0.j,  7.12657357e-02+0.j,  3.06300748e-02+0.j,\n",
    "  7.40674025e-02+0.j,  1.97123182e-03+0.j,  8.23208993e-03+0.j,\n",
    "  1.97123182e-03+0.j,  8.23208993e-03+0.j, -1.10132664e-02+0.j,\n",
    " -7.20326168e-03+0.j, -3.81000468e-03+0.j, -3.81000468e-03+0.j,\n",
    " -7.20326168e-03+0.j, -1.10132664e-02+0.j,  4.52153680e-02+0.j,\n",
    "  4.52153680e-02+0.j,  4.52153680e-02+0.j,  4.52153680e-02+0.j,\n",
    "  2.73083370e-03+0.j,  2.73083370e-03+0.j,  2.73083370e-03+0.j,\n",
    "  2.73083370e-03+0.j,  9.92105488e-03+0.j,  9.92105488e-03+0.j,\n",
    "  9.92105488e-03+0.j,  9.92105488e-03+0.j, -4.56970944e-02+0.j,\n",
    " -4.56970944e-02+0.j, -4.56970944e-02+0.j, -4.56970944e-02+0.j,\n",
    "  6.26587905e-03+0.j,  6.26587905e-03+0.j,  8.76339225e-03+0.j,\n",
    "  8.76339225e-03+0.j,  3.82650198e-02+0.j,  3.82650198e-02+0.j,\n",
    "  3.82650198e-02+0.j,  3.82650198e-02+0.j, -1.68896495e-03+0.j,\n",
    " -1.68896495e-03+0.j, -3.84938327e-02+0.j, -3.84938327e-02+0.j,\n",
    " -3.84938327e-02+0.j, -3.84938327e-02+0.j, -1.91756644e-03+0.j,\n",
    " -1.91756644e-03+0.j,  8.98699815e-03+0.j,  8.98699815e-03+0.j,\n",
    "  2.73083370e-03+0.j,  2.73083370e-03+0.j,  2.73083370e-03+0.j,\n",
    "  2.73083370e-03+0.j,  3.54538635e-02+0.j,  3.54538635e-02+0.j,\n",
    "  3.54538635e-02+0.j,  3.54538635e-02+0.j, -3.46838280e-02+0.j,\n",
    " -3.46838280e-02+0.j, -3.46838280e-02+0.j, -3.46838280e-02+0.j,\n",
    " -2.72111910e-03+0.j, -2.72111910e-03+0.j, -2.72111910e-03+0.j,\n",
    " -2.72111910e-03+0.j,  3.45690108e-02+0.j,  3.31222731e-02+0.j,\n",
    "  7.10045261e-02+0.j, -1.68896495e-03+0.j, -1.68896495e-03+0.j,\n",
    "  7.17102376e-02+0.j,  1.49535906e-03+0.j,  1.49535906e-03+0.j,\n",
    "  7.20235096e-02+0.j,  7.18631896e-02+0.j, -8.32688202e-03+0.j,\n",
    " -8.32688202e-03+0.j,  9.92105488e-03+0.j,  9.92105488e-03+0.j,\n",
    "  9.92105488e-03+0.j,  9.92105488e-03+0.j, -3.46838280e-02+0.j,\n",
    " -3.46838280e-02+0.j, -3.46838280e-02+0.j, -3.46838280e-02+0.j,\n",
    "  3.74544987e-02+0.j,  3.74544987e-02+0.j,  3.74544987e-02+0.j,\n",
    "  3.74544987e-02+0.j, -1.00696391e-02+0.j, -1.00696391e-02+0.j,\n",
    " -1.00696391e-02+0.j, -1.00696391e-02+0.j, -9.00548050e-03+0.j,\n",
    " -9.00548050e-03+0.j, -3.84938327e-02+0.j, -3.84938327e-02+0.j,\n",
    " -3.84938327e-02+0.j, -3.84938327e-02+0.j,  1.49535906e-03+0.j,\n",
    "  1.49535906e-03+0.j,  3.87409165e-02+0.j,  3.87409165e-02+0.j,\n",
    "  3.87409165e-02+0.j,  3.87409165e-02+0.j,  1.74275708e-03+0.j,\n",
    "  1.74275708e-03+0.j, -9.24626051e-03+0.j, -9.24626051e-03+0.j,\n",
    "  2.59279774e-02+0.j,  7.12657357e-02+0.j, -1.91756644e-03+0.j,\n",
    " -1.91756644e-03+0.j,  7.20235096e-02+0.j,  1.74275708e-03+0.j,\n",
    "  1.74275708e-03+0.j,  7.23838652e-02+0.j,  7.21433666e-02+0.j,\n",
    " -4.56970944e-02+0.j, -4.56970944e-02+0.j, -4.56970944e-02+0.j,\n",
    " -4.56970944e-02+0.j, -2.72111910e-03+0.j, -2.72111910e-03+0.j,\n",
    " -2.72111910e-03+0.j, -2.72111910e-03+0.j, -1.00696391e-02+0.j,\n",
    " -1.00696391e-02+0.j, -1.00696391e-02+0.j, -1.00696391e-02+0.j,\n",
    "  4.62153892e-02+0.j,  4.62153892e-02+0.j,  4.62153892e-02+0.j,\n",
    "  4.62153892e-02+0.j,  7.40674025e-02+0.j,  8.98699815e-03+0.j,\n",
    "  8.98699815e-03+0.j,  7.18631896e-02+0.j, -9.24626051e-03+0.j,\n",
    " -9.24626051e-03+0.j,  7.21433666e-02+0.j,  7.50331458e-02+0.j,\n",
    "  2.57891581e-02+0.j, -6.27464680e-03+0.j, -6.27464680e-03+0.j,\n",
    "  3.30007159e-02+0.j,  3.86135390e-02+0.j,  8.23208993e-03+0.j,\n",
    "  8.23208993e-03+0.j, -1.10132664e-02+0.j, -7.20326168e-03+0.j,\n",
    " -3.81000468e-03+0.j, -3.81000468e-03+0.j, -7.20326168e-03+0.j,\n",
    " -1.10132664e-02+0.j,  6.26587905e-03+0.j,  6.26587905e-03+0.j,\n",
    "  3.45690108e-02+0.j,  3.31222731e-02+0.j, -8.32688202e-03+0.j,\n",
    " -8.32688202e-03+0.j,  2.59279774e-02+0.j])"
   ]
  },
  {
   "cell_type": "code",
   "execution_count": 27,
   "metadata": {},
   "outputs": [],
   "source": [
    "hamiltonian = qubit_op.to_matrix()\n"
   ]
  },
  {
   "cell_type": "code",
   "execution_count": 134,
   "metadata": {},
   "outputs": [],
   "source": [
    "def noiseless_executor(circuit: QuantumCircuit) -> float:\n",
    "    \"\"\"Simulates the execution of a circuit without noise.\n",
    "\n",
    "    Args:\n",
    "        circuit: The input circuit.\n",
    "\n",
    "    Returns:\n",
    "        The expectation value of the observable.\n",
    "    \"\"\"\n",
    "    # avoid mutating the input circuit\n",
    "    circ = circuit.copy()\n",
    "    circ.save_density_matrix()\n",
    "\n",
    "\n",
    "    backend = Aer.get_backend(\"statevector_simulator\")\n",
    "    # execute experiment without noise\n",
    "    job = qiskit.execute(\n",
    "        experiments=circ,\n",
    "        backend=AerSimulator(method=\"statevector\"),\n",
    "        noise_model=None,\n",
    "        # we want all gates to be actually applied,\n",
    "        # so we skip any circuit optimization \n",
    "        optimization_level=0,\n",
    "        shots=60000,\n",
    "    )\n",
    "    rho = job.result().data()[\"density_matrix\"]\n",
    "    #print(rho.shape)\n",
    "    #print(hamiltonian.shape)\n",
    "    expectation = np.real(np.trace(rho @ hamiltonian))\n",
    "    return expectation "
   ]
  },
  {
   "cell_type": "code",
   "execution_count": 118,
   "metadata": {},
   "outputs": [],
   "source": [
    "initial_vector=[0.42550940939382703, 0.42550940939382703, 0.42550940939382703, 0.4255094093938269, -0.4172697807171212, -0.38841147772110596, -0.3861385489217176, -0.32503316011263744, 0.31054162330482443, -0.3663726839032295, 0.3688823395400796, 0.3105416233048244, -0.3663726839032295, 0.3688823395400796,0,0,0,0]"
   ]
  },
  {
   "cell_type": "code",
   "execution_count": 135,
   "metadata": {},
   "outputs": [
    {
     "data": {
      "text/plain": [
       "-1.9828711498712384"
      ]
     },
     "execution_count": 135,
     "metadata": {},
     "output_type": "execute_result"
    }
   ],
   "source": [
    "noiseless_executor(create_ansatz(list_T2, initial_vector,list_T1)) #+ nuclear_repulsion_energy"
   ]
  },
  {
   "cell_type": "code",
   "execution_count": 163,
   "metadata": {},
   "outputs": [],
   "source": [
    "# strength of noise channel\n",
    "noise_level = 0.04\n",
    "\n",
    "def executor_with_noise(circuit: QuantumCircuit) -> float:\n",
    "    \"\"\"Simulates the execution of a circuit with depolarizing noise.\n",
    "\n",
    "    Args:\n",
    "        circuit: The input circuit.\n",
    "\n",
    "    Returns:\n",
    "        The expectation value of the hamiltonian.\n",
    "    \"\"\"\n",
    "    # avoid mutating the input circuit\n",
    "    circ = circuit.copy()\n",
    "    circ.save_density_matrix()\n",
    "    \n",
    "    # Initialize qiskit noise model. In this case a depolarizing\n",
    "    # noise model with the same noise strength on all gates\n",
    "    noise_model = NoiseModel()\n",
    "    noise_model.add_all_qubit_quantum_error(\n",
    "        depolarizing_error(noise_level, 1), [\"rx\"]\n",
    "    )\n",
    "    noise_model.add_all_qubit_quantum_error(\n",
    "        depolarizing_error(noise_level, 2), [\"cx\"]\n",
    "    ) \n",
    "    \n",
    "\n",
    "    # execute experiment with depolarizing noise\n",
    "    job = qiskit.execute(\n",
    "        experiments=circ,\n",
    "        backend=AerSimulator(method=\"density_matrix\"),\n",
    "        noise_model=noise_model,\n",
    "        basis_gates=noise_model.basis_gates + [\"save_density_matrix\"],\n",
    "        # we want all gates to be actually applied,\n",
    "        # so we skip any circuit optimization \n",
    "        optimization_level=0,\n",
    "        shots=2**20,\n",
    "    )\n",
    "    rho = job.result().data()[\"density_matrix\"]\n",
    "\n",
    "    expectation = np.real(np.trace(rho @ hamiltonian))\n",
    "    return expectation "
   ]
  },
  {
   "cell_type": "code",
   "execution_count": 79,
   "metadata": {},
   "outputs": [],
   "source": [
    "from scipy.optimize import minimize"
   ]
  },
  {
   "cell_type": "code",
   "execution_count": 165,
   "metadata": {},
   "outputs": [
    {
     "name": "stdout",
     "output_type": "stream",
     "text": [
      "==============with zne===========\n",
      ">>> Expectation value (Hartree): -1.8567601192271443\n",
      ">>> Total ground state energy (Hartree): -1.0923930367871444\n",
      "=============================\n",
      "\n",
      "==============with zne===========\n",
      ">>> Expectation value (Hartree): -1.8591441401977011\n",
      ">>> Total ground state energy (Hartree): -1.0947770577577012\n",
      "=============================\n",
      "\n",
      "==============with zne===========\n",
      ">>> Expectation value (Hartree): -1.859248647683963\n",
      ">>> Total ground state energy (Hartree): -1.094881565243963\n",
      "=============================\n",
      "\n",
      "==============with zne===========\n",
      ">>> Expectation value (Hartree): -1.8551712094127626\n",
      ">>> Total ground state energy (Hartree): -1.0908041269727626\n",
      "=============================\n",
      "\n",
      "==============with zne===========\n",
      ">>> Expectation value (Hartree): -1.858834363218271\n",
      ">>> Total ground state energy (Hartree): -1.094467280778271\n",
      "=============================\n",
      "\n",
      "==============with zne===========\n",
      ">>> Expectation value (Hartree): -1.8591768260899064\n",
      ">>> Total ground state energy (Hartree): -1.0948097436499065\n",
      "=============================\n",
      "\n",
      "==============with zne===========\n",
      ">>> Expectation value (Hartree): -1.8593310525232958\n",
      ">>> Total ground state energy (Hartree): -1.0949639700832958\n",
      "=============================\n",
      "\n",
      "==============with zne===========\n",
      ">>> Expectation value (Hartree): -1.8590175795470876\n",
      ">>> Total ground state energy (Hartree): -1.0946504971070876\n",
      "=============================\n",
      "\n",
      "==============with zne===========\n",
      ">>> Expectation value (Hartree): -1.8599534223687033\n",
      ">>> Total ground state energy (Hartree): -1.0955863399287034\n",
      "=============================\n",
      "\n",
      "==============with zne===========\n",
      ">>> Expectation value (Hartree): -1.8599409191291314\n",
      ">>> Total ground state energy (Hartree): -1.0955738366891314\n",
      "=============================\n",
      "\n",
      "==============with zne===========\n",
      ">>> Expectation value (Hartree): -1.8598012200384175\n",
      ">>> Total ground state energy (Hartree): -1.0954341375984176\n",
      "=============================\n",
      "\n",
      "==============with zne===========\n",
      ">>> Expectation value (Hartree): -1.8599874604906292\n",
      ">>> Total ground state energy (Hartree): -1.0956203780506293\n",
      "=============================\n",
      "\n",
      "==============with zne===========\n",
      ">>> Expectation value (Hartree): -1.8600564861313702\n",
      ">>> Total ground state energy (Hartree): -1.0956894036913702\n",
      "=============================\n",
      "\n",
      "==============with zne===========\n",
      ">>> Expectation value (Hartree): -1.860248800337116\n",
      ">>> Total ground state energy (Hartree): -1.095881717897116\n",
      "=============================\n",
      "\n",
      "==============with zne===========\n",
      ">>> Expectation value (Hartree): -1.8602180712337497\n",
      ">>> Total ground state energy (Hartree): -1.0958509887937498\n",
      "=============================\n",
      "\n",
      "==============with zne===========\n",
      ">>> Expectation value (Hartree): -1.8589558036807559\n",
      ">>> Total ground state energy (Hartree): -1.094588721240756\n",
      "=============================\n",
      "\n",
      "==============with zne===========\n",
      ">>> Expectation value (Hartree): -1.8596294175377825\n",
      ">>> Total ground state energy (Hartree): -1.0952623350977826\n",
      "=============================\n",
      "\n",
      "==============with zne===========\n",
      ">>> Expectation value (Hartree): -1.8602097386074974\n",
      ">>> Total ground state energy (Hartree): -1.0958426561674974\n",
      "=============================\n",
      "\n",
      "==============with zne===========\n",
      ">>> Expectation value (Hartree): -1.8596238699457468\n",
      ">>> Total ground state energy (Hartree): -1.0952567875057468\n",
      "=============================\n",
      "\n",
      "==============with zne===========\n",
      ">>> Expectation value (Hartree): -1.8571095565042037\n",
      ">>> Total ground state energy (Hartree): -1.0927424740642038\n",
      "=============================\n",
      "\n",
      "==============with zne===========\n",
      ">>> Expectation value (Hartree): -1.860202408938377\n",
      ">>> Total ground state energy (Hartree): -1.0958353264983771\n",
      "=============================\n",
      "\n",
      "==============with zne===========\n",
      ">>> Expectation value (Hartree): -1.8569347836491834\n",
      ">>> Total ground state energy (Hartree): -1.0925677012091835\n",
      "=============================\n",
      "\n",
      "==============with zne===========\n",
      ">>> Expectation value (Hartree): -1.860101112515465\n",
      ">>> Total ground state energy (Hartree): -1.095734030075465\n",
      "=============================\n",
      "\n",
      "==============with zne===========\n",
      ">>> Expectation value (Hartree): -1.8566438719568115\n",
      ">>> Total ground state energy (Hartree): -1.0922767895168115\n",
      "=============================\n",
      "\n",
      "==============with zne===========\n",
      ">>> Expectation value (Hartree): -1.86010067322127\n",
      ">>> Total ground state energy (Hartree): -1.09573359078127\n",
      "=============================\n",
      "\n",
      "==============with zne===========\n",
      ">>> Expectation value (Hartree): -1.8566400707372324\n",
      ">>> Total ground state energy (Hartree): -1.0922729882972324\n",
      "=============================\n",
      "\n",
      "==============with zne===========\n",
      ">>> Expectation value (Hartree): -1.8602609231281588\n",
      ">>> Total ground state energy (Hartree): -1.0958938406881589\n",
      "=============================\n",
      "\n",
      "==============with zne===========\n",
      ">>> Expectation value (Hartree): -1.8560850862482143\n",
      ">>> Total ground state energy (Hartree): -1.0917180038082144\n",
      "=============================\n",
      "\n",
      "==============with zne===========\n",
      ">>> Expectation value (Hartree): -1.8603018700285299\n",
      ">>> Total ground state energy (Hartree): -1.09593478758853\n",
      "=============================\n",
      "\n",
      "==============with zne===========\n",
      ">>> Expectation value (Hartree): -1.8569496432312311\n",
      ">>> Total ground state energy (Hartree): -1.0925825607912312\n",
      "=============================\n",
      "\n",
      "==============with zne===========\n",
      ">>> Expectation value (Hartree): -1.8602745829597478\n",
      ">>> Total ground state energy (Hartree): -1.0959075005197478\n",
      "=============================\n",
      "\n",
      "==============with zne===========\n",
      ">>> Expectation value (Hartree): -1.8568814088111956\n",
      ">>> Total ground state energy (Hartree): -1.0925143263711956\n",
      "=============================\n",
      "\n",
      "==============with zne===========\n",
      ">>> Expectation value (Hartree): -1.8598495675700122\n",
      ">>> Total ground state energy (Hartree): -1.0954824851300122\n",
      "=============================\n",
      "\n",
      "==============with zne===========\n",
      ">>> Expectation value (Hartree): -1.8581330235699467\n",
      ">>> Total ground state energy (Hartree): -1.0937659411299467\n",
      "=============================\n",
      "\n",
      "==============with zne===========\n",
      ">>> Expectation value (Hartree): -1.8601980012247863\n",
      ">>> Total ground state energy (Hartree): -1.0958309187847863\n",
      "=============================\n",
      "\n",
      "==============with zne===========\n",
      ">>> Expectation value (Hartree): -1.8587427252391782\n",
      ">>> Total ground state energy (Hartree): -1.0943756427991782\n",
      "=============================\n",
      "\n",
      "==============with zne===========\n",
      ">>> Expectation value (Hartree): -1.8593123543462517\n",
      ">>> Total ground state energy (Hartree): -1.0949452719062518\n",
      "=============================\n",
      "\n",
      "==============with zne===========\n",
      ">>> Expectation value (Hartree): -1.858713671696605\n",
      ">>> Total ground state energy (Hartree): -1.094346589256605\n",
      "=============================\n",
      "\n",
      "==============with zne===========\n",
      ">>> Expectation value (Hartree): -1.8568653224340406\n",
      ">>> Total ground state energy (Hartree): -1.0924982399940406\n",
      "=============================\n",
      "\n",
      "==============with zne===========\n",
      ">>> Expectation value (Hartree): -1.8587040686628984\n",
      ">>> Total ground state energy (Hartree): -1.0943369862228984\n",
      "=============================\n",
      "\n",
      "==============with zne===========\n",
      ">>> Expectation value (Hartree): -1.858996250330606\n",
      ">>> Total ground state energy (Hartree): -1.094629167890606\n",
      "=============================\n",
      "\n",
      "==============with zne===========\n",
      ">>> Expectation value (Hartree): -1.8586680002088192\n",
      ">>> Total ground state energy (Hartree): -1.0943009177688192\n",
      "=============================\n",
      "\n",
      "==============with zne===========\n",
      ">>> Expectation value (Hartree): -1.8590187065012984\n",
      ">>> Total ground state energy (Hartree): -1.0946516240612985\n",
      "=============================\n",
      "\n",
      "==============with zne===========\n",
      ">>> Expectation value (Hartree): -1.8581191583133567\n",
      ">>> Total ground state energy (Hartree): -1.0937520758733568\n",
      "=============================\n",
      "\n",
      "==============with zne===========\n",
      ">>> Expectation value (Hartree): -1.858978049943828\n",
      ">>> Total ground state energy (Hartree): -1.094610967503828\n",
      "=============================\n",
      "\n",
      "==============with zne===========\n",
      ">>> Expectation value (Hartree): -1.8587832925033592\n",
      ">>> Total ground state energy (Hartree): -1.0944162100633592\n",
      "=============================\n",
      "\n",
      "==============with zne===========\n",
      ">>> Expectation value (Hartree): -1.859012457191712\n",
      ">>> Total ground state energy (Hartree): -1.094645374751712\n",
      "=============================\n",
      "\n",
      "==============with zne===========\n",
      ">>> Expectation value (Hartree): -1.8592372926003853\n",
      ">>> Total ground state energy (Hartree): -1.0948702101603853\n",
      "=============================\n",
      "\n",
      "==============with zne===========\n",
      ">>> Expectation value (Hartree): -1.8590909052795175\n",
      ">>> Total ground state energy (Hartree): -1.0947238228395175\n",
      "=============================\n",
      "\n",
      "==============with zne===========\n",
      ">>> Expectation value (Hartree): -1.859268726952671\n",
      ">>> Total ground state energy (Hartree): -1.0949016445126711\n",
      "=============================\n",
      "\n",
      " message: Maximum number of function evaluations has been exceeded.\n",
      " success: False\n",
      "  status: 2\n",
      "     fun: -1.8603018700285299\n",
      "       x: [ 1.020e+00  1.001e+00 ...  0.000e+00  0.000e+00]\n",
      "    nfev: 50\n",
      "   maxcv: 0.0\n"
     ]
    }
   ],
   "source": [
    "def cost_func():\n",
    "    \"\"\"Return estimate of energy from estimator on noisy backend\n",
    "\n",
    "    Returns:\n",
    "        float: Energy estimate\n",
    "    \"\"\"\n",
    "    def execution(parameters):\n",
    "        '''Parameters:\n",
    "        params (ndarray): Array of ansatz parameters\n",
    "        '''\n",
    "        qc1= create_ansatz(list_T2, parameters,list_T1)\n",
    "        noiseless_energy = noiseless_executor(qc1)\n",
    "        #energy = executor_with_noise(qc1)\n",
    "        \n",
    "        mitigated_expectations = mitigated_executor(qiskit.compiler.transpile(qc1, basis_gates=[\"u1\", \"u2\", \"u3\", \"cx\",'cx_o0']))\n",
    "\n",
    "        # print(\"==============with noise model===========\")\n",
    "        # print(f\">>> Expectation value (Hartree): {noiseless_energy}\")\n",
    "        # print(f\">>> Total ground state energy (Hartree): {noiseless_energy+nuclear_repulsion_energy}\")\n",
    "        # print(\"=============================\\n\")\n",
    "\n",
    "        print(\"==============with zne===========\")\n",
    "        print(f\">>> Expectation value (Hartree): {mitigated_expectations}\")\n",
    "        print(f\">>> Total ground state energy (Hartree): {mitigated_expectations+nuclear_repulsion_energy}\")\n",
    "        print(\"=============================\\n\")\n",
    "\n",
    "\n",
    "        \n",
    "\n",
    "        return mitigated_expectations\n",
    "        \n",
    "    return execution\n",
    "\n",
    "\n",
    "initial_theta = [0.00]*18\n",
    "repititions = 1\n",
    "\n",
    "av_av_list = []\n",
    "for i in range(repititions):\n",
    "    res = minimize(\n",
    "        cost_func(),\n",
    "        x0=initial_theta,\n",
    "        method='COBYLA',\n",
    "        options={'maxiter':50}   \n",
    "        )\n",
    "    print(res)\n",
    "    #print('repititions_'  + str(i))\n",
    "    #print('noisy energy values', list_noise_energy)\n"
   ]
  },
  {
   "cell_type": "code",
   "execution_count": 166,
   "metadata": {},
   "outputs": [
    {
     "data": {
      "text/plain": [
       "array([ 1.01975748e+00,  1.00086610e+00, -2.37949739e-02, -2.41766703e-03,\n",
       "       -4.19133987e-04,  1.50058192e+00, -4.98452014e-01,  1.00000000e+00,\n",
       "        0.00000000e+00,  0.00000000e+00,  1.00000000e+00,  1.00000000e+00,\n",
       "        1.00000000e+00,  0.00000000e+00,  0.00000000e+00,  0.00000000e+00,\n",
       "        0.00000000e+00,  0.00000000e+00])"
      ]
     },
     "execution_count": 166,
     "metadata": {},
     "output_type": "execute_result"
    }
   ],
   "source": [
    "res.x"
   ]
  },
  {
   "cell_type": "code",
   "execution_count": 40,
   "metadata": {},
   "outputs": [
    {
     "name": "stdout",
     "output_type": "stream",
     "text": [
      "[-2.077678872500001, -2.038324825204223, -1.9988408845967456, -1.9618097060482207, -1.929653509091159, -1.9044756393768139, -1.8879229882599657, -1.8810782691843049, -1.88438919709949, -1.8976392033036498, -1.919961601261506, -1.9498962768080375, -1.9854851946159855, -2.0244004738229426, -2.0640966553562374, -2.1019772011081175, -2.135564334204641, -2.162661111069711, -2.181495124106183, -2.190834435362294, -2.190068157930536, -2.179246414227623, -2.159077057473473, -2.130879370818203, -2.096497772669904, -2.058181172781328, -2.0184358704469436, -1.9798616167795553, -1.944981564277879, -1.916077226730462, -1.8950392447738154, -1.8832437185704833, -1.8814621967204834, -1.8898112090560173, -1.9077446443932478, -1.9340894718144004, -1.9671224689414288, -2.0046829383837945, -2.0443140395466397, -2.0834234912470637, -2.1194531335364166, -2.1500462576432366, -2.1732017589395642, -2.187405029742817, -2.191727030219157, -2.1858850571335444, -2.17026123554575, -2.145877523905535, -2.1143288674705283, -2.0776788725000044]\n"
     ]
    }
   ],
   "source": [
    "gammas = np.linspace(0, 2 * np.pi, 50)\n",
    "noiseless_expectations = [noiseless_executor(create_ansatz(list_T2,[g])) for g in gammas]\n",
    "print(noiseless_expectations)"
   ]
  },
  {
   "cell_type": "code",
   "execution_count": 44,
   "metadata": {},
   "outputs": [
    {
     "data": {
      "image/png": "[encoded data removed]",
      "text/plain": [
       "<Figure size 800x600 with 1 Axes>"
      ]
     },
     "metadata": {},
     "output_type": "display_data"
    }
   ],
   "source": [
    "plt.figure(figsize=(8, 6))\n",
    "plt.plot(gammas, noiseless_expectations, color=\"g\", linewidth=3, label=\"Noiseless\")\n",
    "plt.title(\"Energy landscape\", fontsize=16)\n",
    "plt.xlabel(r\"Ansatz angle $\\gamma$\", fontsize=16)\n",
    "plt.ylabel(r\"$\\langle H \\rangle(\\gamma)$\", fontsize=16)\n",
    "plt.legend(fontsize=14)\n",
    "plt.ylim(-3, -1);\n",
    "plt.show()"
   ]
  },
  {
   "cell_type": "code",
   "execution_count": 45,
   "metadata": {},
   "outputs": [
    {
     "name": "stdout",
     "output_type": "stream",
     "text": [
      "[-1.9891739789758907, -1.9767296435527348, -1.9642269180483642, -1.9524809458132923, -1.9422573791044173, -1.934222281025705, -1.928898518530275, -1.9266315029587875, -1.927566524361356, -1.9316391684442444, -1.938579449897532, -1.9479293989960136, -1.9590729583695228, -1.9712762412668265, -1.9837355241926606, -1.9956298398809578, -2.006174734373743, -2.014673674318961, -2.0205637426199208, -2.023452632385802, -2.0231445164971262, -2.0196530959743737, -2.0132009673147433, -2.004205342364765, -1.9932510457508914, -1.9810525461413042, -1.9684074943327174, -1.9561447964970111, -1.945070608577731, -1.9359157744053934, -1.9292881366580696, -1.9256328324163037, -1.9252031644686611, -1.9280439497154862, -1.9339884320513594, -1.9426689621500375, -1.9535407484371263, -1.965917130880444, -1.9790140777465726, -1.9920010042393637, -2.0040546002046944, -2.014412158720748, -2.02242093111838, -2.027580294542189, -2.0295739884978965, -2.028290326157735, -2.023829072042198, -2.016494548681168, -2.0067754340419657, -1.9953125801293805]\n"
     ]
    }
   ],
   "source": [
    "gammas = np.linspace(0, 2 * np.pi, 50)\n",
    "expectations = [executor_with_noise(create_ansatz(list_T2,[g])) for g in gammas]\n",
    "print(expectations)"
   ]
  },
  {
   "cell_type": "code",
   "execution_count": 47,
   "metadata": {},
   "outputs": [
    {
     "data": {
      "image/png": "[encoded data removed]",
      "text/plain": [
       "<Figure size 800x600 with 1 Axes>"
      ]
     },
     "metadata": {},
     "output_type": "display_data"
    }
   ],
   "source": [
    "plt.figure(figsize=(8, 6))\n",
    "plt.plot(gammas, noiseless_expectations, color=\"g\", linewidth=3, label=\"Noiseless\")\n",
    "plt.scatter(gammas, expectations, color=\"r\", label=\"Unmitigated\")\n",
    "plt.title(rf\"Energy landscape\", fontsize=16)\n",
    "plt.xlabel(r\"Ansatz angle $\\gamma$\", fontsize=16)\n",
    "plt.ylabel(r\"$\\langle H \\rangle(\\gamma)$\", fontsize=16)\n",
    "plt.legend(fontsize=14)\n",
    "plt.ylim(-3, -1);\n",
    "plt.show()"
   ]
  },
  {
   "cell_type": "code",
   "execution_count": 52,
   "metadata": {},
   "outputs": [
    {
     "data": {
      "text/plain": [
       "qiskit.circuit.quantumcircuit.QuantumCircuit"
      ]
     },
     "execution_count": 52,
     "metadata": {},
     "output_type": "execute_result"
    }
   ],
   "source": [
    "type(create_ansatz(list_T2,[0.00]))\n"
   ]
  },
  {
   "cell_type": "code",
   "execution_count": 55,
   "metadata": {},
   "outputs": [],
   "source": [
    "qc = create_ansatz(list_T2,[phi1])"
   ]
  },
  {
   "cell_type": "code",
   "execution_count": 100,
   "metadata": {},
   "outputs": [
    {
     "data": {
      "text/plain": [
       "<mitiq.zne.inference.LinearFactory at 0x2626029be80>"
      ]
     },
     "execution_count": 100,
     "metadata": {},
     "output_type": "execute_result"
    }
   ],
   "source": [
    "from mitiq import zne\n",
    "zne.inference.\n"
   ]
  },
  {
   "cell_type": "code",
   "execution_count": 164,
   "metadata": {},
   "outputs": [],
   "source": [
    "fac = LinearFactory(scale_factors=[1, 3, 5])\n",
    "#fac = PolyFactory(scale_factors=[1, 3, 5,7,9,11,13,15,17], order=8)\n",
    "#fac = AdaExpFactory(steps=5)\n",
    "# import fold_gates_from_right from scaling\n",
    "\n",
    "\n",
    "#zne.inference.LinearFactory(scale_factors=[1.0, 1.5, 2.0, 2.5, 3.0])\n",
    "scale_noise = zne.scaling.fold_gates_from_right\n",
    "\n",
    "mitigated_executor = mitigate_executor(executor_with_noise, factory=fac, scale_noise=scale_noise)"
   ]
  },
  {
   "cell_type": "code",
   "execution_count": 159,
   "metadata": {},
   "outputs": [
    {
     "ename": "CircuitConversionError",
     "evalue": "Circuit could not be converted to an internal Mitiq circuit. This may be because the circuit contains custom gates or Pragmas (pyQuil). If you think this is a bug or that this circuit should be supported, you can open an issue at https://github.com/unitaryfund/mitiq. \n\n Provided circuit has type <class 'qiskit.circuit.quantumcircuit.QuantumCircuit'> and is:\n\n     ┌───────────┐                                              »\nq_0: ┤ U3(π,0,π) ├──────────────────────────────────────────────»\n     ├───────────┤     ┌───┐┌───────────┐                       »\nq_1: ┤ U3(π,0,π) ├─────┤ X ├┤ U3(π,0,π) ├───────────────────────»\n     └───────────┘┌───┐└─┬─┘├───────────┤                       »\nq_2: ─────────────┤ X ├──┼──┤ U3(π,0,π) ├────────────────────■──»\n                  └─┬─┘  │  └───────────┘                    │  »\nq_3: ───────────────┼────┼───────────────────────────────────┼──»\n     ┌───────────┐  │    │                                   │  »\nq_4: ┤ U3(π,0,π) ├──┼────┼───────────────────────────────────┼──»\n     ├───────────┤  │    │      ┌───┐                        │  »\nq_5: ┤ U3(π,0,π) ├──┼────■──────┤ X ├────────────────────────┼──»\n     └───────────┘  │           └─┬─┘    ┌────────────────┐┌─┴─┐»\nq_6: ───────────────■─────────────■──────┤ U3(phi1/4,0,0) ├┤ X ├»\n                                         └────────────────┘└───┘»\nq_7: ───────────────────────────────────────────────────────────»\n                                                                »\n«                                                                             »\n«q_0: ────────────────────────────────────────────────────────────────────────»\n«                                                                             »\n«q_1: ────────────────────────■───────────────────────────────────────────────»\n«                             │                                               »\n«q_2: ────────────────────────┼──────────────────────■────────────────────────»\n«                             │                      │                        »\n«q_3: ────────────────────────┼──────────────────────┼────────────────────────»\n«                             │                      │                        »\n«q_4: ────────────────────────┼──────────────────────┼────────────────────────»\n«                             │                      │                        »\n«q_5: ────────────────────────┼──────────────────────┼────────────────────────»\n«     ┌────────────────────┐┌─┴─┐┌────────────────┐┌─┴─┐┌────────────────────┐»\n«q_6: ┤ U3(-0.25*phi1,0,0) ├┤ X ├┤ U3(phi1/4,0,0) ├┤ X ├┤ U3(-0.25*phi1,0,0) ├»\n«     └────────────────────┘└───┘└────────────────┘└───┘└────────────────────┘»\n«q_7: ────────────────────────────────────────────────────────────────────────»\n«                                                                             »\n«                                                                              »\n«q_0: ─────────────────────────────────────────────────────────────────────────»\n«                                                              ┌───────────┐   »\n«q_1: ────────────────────────────────────────────────────■────┤ U3(π,0,π) ├───»\n«                                                         │    └───────────┘   »\n«q_2: ─────────────────────────■──────────────────────────┼────────────────────»\n«                              │                          │                    »\n«q_3: ─────────────────────────┼──────────────────────────┼────────────────────»\n«                              │                          │                    »\n«q_4: ─────────────────────────┼──────────────────────────┼────────────────────»\n«                              │                          │                    »\n«q_5: ──■──────────────────────┼──────────────────────────┼────────────────────»\n«     ┌─┴─┐┌────────────────┐┌─┴─┐┌────────────────────┐┌─┴─┐┌────────────────┐»\n«q_6: ┤ X ├┤ U3(phi1/4,0,0) ├┤ X ├┤ U3(-0.25*phi1,0,0) ├┤ X ├┤ U3(phi1/4,0,0) ├»\n«     └───┘└────────────────┘└───┘└────────────────────┘└───┘└────────────────┘»\n«q_7: ─────────────────────────────────────────────────────────────────────────»\n«                                                                              »\n«                                                    \n«q_0: ───────────────────────────────────────────────\n«                                          ┌───┐     \n«q_1: ─────────────────────────────────────┤ X ├─────\n«              ┌───────────┐               └─┬─┘┌───┐\n«q_2: ──■──────┤ U3(π,0,π) ├─────────────────┼──┤ X ├\n«       │      └───────────┘                 │  └─┬─┘\n«q_3: ──┼────────────────────────────────────┼────┼──\n«       │                                    │    │  \n«q_4: ──┼────────────────────────────────────┼────┼──\n«       │                             ┌───┐  │    │  \n«q_5: ──┼──────────────────────────■──┤ X ├──■────┼──\n«     ┌─┴─┐┌────────────────────┐┌─┴─┐└─┬─┘       │  \n«q_6: ┤ X ├┤ U3(-0.25*phi1,0,0) ├┤ X ├──■─────────■──\n«     └───┘└────────────────────┘└───┘               \n«q_7: ───────────────────────────────────────────────\n«                                                    \n\nCircuit types supported by Mitiq are \n{'cirq': 'Circuit', 'pyquil': 'Program', 'qiskit': 'QuantumCircuit', 'braket': 'Circuit', 'pennylane': 'QuantumTape'}.",
     "output_type": "error",
     "traceback": [
      "\u001b[1;31m---------------------------------------------------------------------------\u001b[0m",
      "\u001b[1;31mQASM2ExportError\u001b[0m                          Traceback (most recent call last)",
      "File \u001b[1;32m~\\AppData\\Local\\Packages\\PythonSoftwareFoundation.Python.3.8_qbz5n2kfra8p0\\LocalCache\\local-packages\\Python38\\site-packages\\mitiq\\interface\\conversions.py:123\u001b[0m, in \u001b[0;36mconvert_to_mitiq\u001b[1;34m(circuit)\u001b[0m\n\u001b[0;32m    122\u001b[0m \u001b[39mtry\u001b[39;00m:\n\u001b[1;32m--> 123\u001b[0m     mitiq_circuit \u001b[39m=\u001b[39m conversion_function(circuit)\n\u001b[0;32m    124\u001b[0m \u001b[39mexcept\u001b[39;00m \u001b[39mException\u001b[39;00m:\n",
      "File \u001b[1;32m~\\AppData\\Local\\Packages\\PythonSoftwareFoundation.Python.3.8_qbz5n2kfra8p0\\LocalCache\\local-packages\\Python38\\site-packages\\mitiq\\interface\\mitiq_qiskit\\conversions.py:286\u001b[0m, in \u001b[0;36mfrom_qiskit\u001b[1;34m(circuit)\u001b[0m\n\u001b[0;32m    278\u001b[0m \u001b[39m\u001b[39m\u001b[39m\"\"\"Returns a Mitiq circuit equivalent to the input Qiskit circuit.\u001b[39;00m\n\u001b[0;32m    279\u001b[0m \n\u001b[0;32m    280\u001b[0m \u001b[39mArgs:\u001b[39;00m\n\u001b[1;32m   (...)\u001b[0m\n\u001b[0;32m    284\u001b[0m \u001b[39m    Mitiq circuit representation equivalent to the input Qiskit circuit.\u001b[39;00m\n\u001b[0;32m    285\u001b[0m \u001b[39m\"\"\"\u001b[39;00m\n\u001b[1;32m--> 286\u001b[0m \u001b[39mreturn\u001b[39;00m from_qasm(circuit\u001b[39m.\u001b[39;49mqasm())\n",
      "File \u001b[1;32m~\\AppData\\Local\\Packages\\PythonSoftwareFoundation.Python.3.8_qbz5n2kfra8p0\\LocalCache\\local-packages\\Python38\\site-packages\\qiskit\\circuit\\quantumcircuit.py:1632\u001b[0m, in \u001b[0;36mQuantumCircuit.qasm\u001b[1;34m(self, formatted, filename, encoding)\u001b[0m\n\u001b[0;32m   1630\u001b[0m \u001b[39mfrom\u001b[39;00m \u001b[39mqiskit\u001b[39;00m \u001b[39mimport\u001b[39;00m qasm2  \u001b[39m# pylint: disable=cyclic-import\u001b[39;00m\n\u001b[1;32m-> 1632\u001b[0m out \u001b[39m=\u001b[39m qasm2\u001b[39m.\u001b[39;49mdumps(\u001b[39mself\u001b[39;49m)\n\u001b[0;32m   1633\u001b[0m \u001b[39mif\u001b[39;00m filename \u001b[39mis\u001b[39;00m \u001b[39mnot\u001b[39;00m \u001b[39mNone\u001b[39;00m:\n",
      "File \u001b[1;32m~\\AppData\\Local\\Packages\\PythonSoftwareFoundation.Python.3.8_qbz5n2kfra8p0\\LocalCache\\local-packages\\Python38\\site-packages\\qiskit\\qasm2\\export.py:138\u001b[0m, in \u001b[0;36mdumps\u001b[1;34m(circuit)\u001b[0m\n\u001b[0;32m    137\u001b[0m \u001b[39mif\u001b[39;00m circuit\u001b[39m.\u001b[39mnum_parameters \u001b[39m>\u001b[39m \u001b[39m0\u001b[39m:\n\u001b[1;32m--> 138\u001b[0m     \u001b[39mraise\u001b[39;00m QASM2ExportError(\u001b[39m\"\u001b[39m\u001b[39mCannot represent circuits with unbound parameters in OpenQASM 2.\u001b[39m\u001b[39m\"\u001b[39m)\n\u001b[0;32m    140\u001b[0m \u001b[39m# Mapping of instruction name to a pair of the source for a definition, and an OQ2 string\u001b[39;00m\n\u001b[0;32m    141\u001b[0m \u001b[39m# that includes the `gate` or `opaque` statement that defines the gate.\u001b[39;00m\n",
      "\u001b[1;31mQASM2ExportError\u001b[0m: 'Cannot represent circuits with unbound parameters in OpenQASM 2.'",
      "\nDuring handling of the above exception, another exception occurred:\n",
      "\u001b[1;31mCircuitConversionError\u001b[0m                    Traceback (most recent call last)",
      "\u001b[1;32mUntitled-2.ipynb Cell 26\u001b[0m line \u001b[0;36m2\n\u001b[0;32m      <a href='vscode-notebook-cell:Untitled-2.ipynb?jupyter-notebook#X50sdW50aXRsZWQ%3D?line=0'>1</a>\u001b[0m \u001b[39mfrom\u001b[39;00m \u001b[39mmitiq\u001b[39;00m\u001b[39m.\u001b[39;00m\u001b[39mzne\u001b[39;00m\u001b[39m.\u001b[39;00m\u001b[39mscaling\u001b[39;00m \u001b[39mimport\u001b[39;00m fold_gates_at_random\n\u001b[1;32m----> <a href='vscode-notebook-cell:Untitled-2.ipynb?jupyter-notebook#X50sdW50aXRsZWQ%3D?line=1'>2</a>\u001b[0m mitigated_result \u001b[39m=\u001b[39m zne\u001b[39m.\u001b[39;49mexecute_with_zne(\n\u001b[0;32m      <a href='vscode-notebook-cell:Untitled-2.ipynb?jupyter-notebook#X50sdW50aXRsZWQ%3D?line=2'>3</a>\u001b[0m      circuit, executor_with_noise, factory\u001b[39m=\u001b[39;49mfac, scale_noise\u001b[39m=\u001b[39;49mfold_gates_at_random,\n\u001b[0;32m      <a href='vscode-notebook-cell:Untitled-2.ipynb?jupyter-notebook#X50sdW50aXRsZWQ%3D?line=3'>4</a>\u001b[0m )\n",
      "File \u001b[1;32m~\\AppData\\Local\\Packages\\PythonSoftwareFoundation.Python.3.8_qbz5n2kfra8p0\\LocalCache\\local-packages\\Python38\\site-packages\\mitiq\\zne\\zne.py:62\u001b[0m, in \u001b[0;36mexecute_with_zne\u001b[1;34m(circuit, executor, observable, factory, scale_noise, num_to_average)\u001b[0m\n\u001b[0;32m     59\u001b[0m \u001b[39mif\u001b[39;00m num_to_average \u001b[39m<\u001b[39m \u001b[39m1\u001b[39m:\n\u001b[0;32m     60\u001b[0m     \u001b[39mraise\u001b[39;00m \u001b[39mValueError\u001b[39;00m(\u001b[39m\"\u001b[39m\u001b[39mArgument `num_to_average` must be a positive int.\u001b[39m\u001b[39m\"\u001b[39m)\n\u001b[1;32m---> 62\u001b[0m \u001b[39mreturn\u001b[39;00m factory\u001b[39m.\u001b[39;49mrun(\n\u001b[0;32m     63\u001b[0m     circuit, executor, observable, scale_noise, \u001b[39mint\u001b[39;49m(num_to_average)\n\u001b[0;32m     64\u001b[0m )\u001b[39m.\u001b[39mreduce()\n",
      "File \u001b[1;32m~\\AppData\\Local\\Packages\\PythonSoftwareFoundation.Python.3.8_qbz5n2kfra8p0\\LocalCache\\local-packages\\Python38\\site-packages\\mitiq\\zne\\inference.py:755\u001b[0m, in \u001b[0;36mAdaptiveFactory.run\u001b[1;34m(self, qp, executor, observable, scale_noise, num_to_average, max_iterations)\u001b[0m\n\u001b[0;32m    724\u001b[0m \u001b[39mdef\u001b[39;00m \u001b[39mrun\u001b[39m(\n\u001b[0;32m    725\u001b[0m     \u001b[39mself\u001b[39m,\n\u001b[0;32m    726\u001b[0m     qp: QPROGRAM,\n\u001b[1;32m   (...)\u001b[0m\n\u001b[0;32m    733\u001b[0m     max_iterations: \u001b[39mint\u001b[39m \u001b[39m=\u001b[39m \u001b[39m100\u001b[39m,\n\u001b[0;32m    734\u001b[0m ) \u001b[39m-\u001b[39m\u001b[39m>\u001b[39m \u001b[39m\"\u001b[39m\u001b[39mAdaptiveFactory\u001b[39m\u001b[39m\"\u001b[39m:\n\u001b[0;32m    735\u001b[0m \u001b[39m    \u001b[39m\u001b[39m\"\"\"Evaluates a sequence of expectation values by executing quantum\u001b[39;00m\n\u001b[0;32m    736\u001b[0m \u001b[39m    circuits until enough data is collected (or iterations reach\u001b[39;00m\n\u001b[0;32m    737\u001b[0m \u001b[39m    \"max_iterations\").\u001b[39;00m\n\u001b[1;32m   (...)\u001b[0m\n\u001b[0;32m    752\u001b[0m \u001b[39m        max_iterations: Maximum number of iterations (optional).\u001b[39;00m\n\u001b[0;32m    753\u001b[0m \u001b[39m    \"\"\"\u001b[39;00m\n\u001b[1;32m--> 755\u001b[0m     _check_circuit_length(qp)\n\u001b[0;32m    757\u001b[0m     \u001b[39mif\u001b[39;00m \u001b[39mnot\u001b[39;00m \u001b[39misinstance\u001b[39m(executor, Executor):\n\u001b[0;32m    758\u001b[0m         executor \u001b[39m=\u001b[39m Executor(executor)\n",
      "File \u001b[1;32m~\\AppData\\Local\\Packages\\PythonSoftwareFoundation.Python.3.8_qbz5n2kfra8p0\\LocalCache\\local-packages\\Python38\\site-packages\\mitiq\\interface\\conversions.py:199\u001b[0m, in \u001b[0;36maccept_any_qprogram_as_input.<locals>.accept_any_qprogram_function\u001b[1;34m(circuit, *args, **kwargs)\u001b[0m\n\u001b[0;32m    195\u001b[0m \u001b[39m@wraps\u001b[39m(accept_cirq_circuit_function)\n\u001b[0;32m    196\u001b[0m \u001b[39mdef\u001b[39;00m \u001b[39maccept_any_qprogram_function\u001b[39m(\n\u001b[0;32m    197\u001b[0m     circuit: QPROGRAM, \u001b[39m*\u001b[39margs: Any, \u001b[39m*\u001b[39m\u001b[39m*\u001b[39mkwargs: Any\n\u001b[0;32m    198\u001b[0m ) \u001b[39m-\u001b[39m\u001b[39m>\u001b[39m Any:\n\u001b[1;32m--> 199\u001b[0m     cirq_circuit, _ \u001b[39m=\u001b[39m convert_to_mitiq(circuit)\n\u001b[0;32m    200\u001b[0m     \u001b[39mreturn\u001b[39;00m accept_cirq_circuit_function(cirq_circuit, \u001b[39m*\u001b[39margs, \u001b[39m*\u001b[39m\u001b[39m*\u001b[39mkwargs)\n",
      "File \u001b[1;32m~\\AppData\\Local\\Packages\\PythonSoftwareFoundation.Python.3.8_qbz5n2kfra8p0\\LocalCache\\local-packages\\Python38\\site-packages\\mitiq\\interface\\conversions.py:125\u001b[0m, in \u001b[0;36mconvert_to_mitiq\u001b[1;34m(circuit)\u001b[0m\n\u001b[0;32m    123\u001b[0m     mitiq_circuit \u001b[39m=\u001b[39m conversion_function(circuit)\n\u001b[0;32m    124\u001b[0m \u001b[39mexcept\u001b[39;00m \u001b[39mException\u001b[39;00m:\n\u001b[1;32m--> 125\u001b[0m     \u001b[39mraise\u001b[39;00m CircuitConversionError(\n\u001b[0;32m    126\u001b[0m         \u001b[39m\"\u001b[39m\u001b[39mCircuit could not be converted to an internal Mitiq circuit. \u001b[39m\u001b[39m\"\u001b[39m\n\u001b[0;32m    127\u001b[0m         \u001b[39m\"\u001b[39m\u001b[39mThis may be because the circuit contains custom gates or Pragmas \u001b[39m\u001b[39m\"\u001b[39m\n\u001b[0;32m    128\u001b[0m         \u001b[39m\"\u001b[39m\u001b[39m(pyQuil). If you think this is a bug or that this circuit should \u001b[39m\u001b[39m\"\u001b[39m\n\u001b[0;32m    129\u001b[0m         \u001b[39m\"\u001b[39m\u001b[39mbe supported, you can open an issue at \u001b[39m\u001b[39m\"\u001b[39m\n\u001b[0;32m    130\u001b[0m         \u001b[39m\"\u001b[39m\u001b[39mhttps://github.com/unitaryfund/mitiq. \u001b[39m\u001b[39m\\n\u001b[39;00m\u001b[39m\\n\u001b[39;00m\u001b[39m Provided circuit has \u001b[39m\u001b[39m\"\u001b[39m\n\u001b[0;32m    131\u001b[0m         \u001b[39mf\u001b[39m\u001b[39m\"\u001b[39m\u001b[39mtype \u001b[39m\u001b[39m{\u001b[39;00m\u001b[39mtype\u001b[39m(circuit)\u001b[39m}\u001b[39;00m\u001b[39m and is:\u001b[39m\u001b[39m\\n\u001b[39;00m\u001b[39m\\n\u001b[39;00m\u001b[39m{\u001b[39;00mcircuit\u001b[39m}\u001b[39;00m\u001b[39m\\n\u001b[39;00m\u001b[39m\\n\u001b[39;00m\u001b[39mCircuit types \u001b[39m\u001b[39m\"\u001b[39m\n\u001b[0;32m    132\u001b[0m         \u001b[39mf\u001b[39m\u001b[39m\"\u001b[39m\u001b[39msupported by Mitiq are \u001b[39m\u001b[39m\\n\u001b[39;00m\u001b[39m{\u001b[39;00mSUPPORTED_PROGRAM_TYPES\u001b[39m}\u001b[39;00m\u001b[39m.\u001b[39m\u001b[39m\"\u001b[39m\n\u001b[0;32m    133\u001b[0m     )\n\u001b[0;32m    135\u001b[0m \u001b[39mreturn\u001b[39;00m mitiq_circuit, input_circuit_type\n",
      "\u001b[1;31mCircuitConversionError\u001b[0m: Circuit could not be converted to an internal Mitiq circuit. This may be because the circuit contains custom gates or Pragmas (pyQuil). If you think this is a bug or that this circuit should be supported, you can open an issue at https://github.com/unitaryfund/mitiq. \n\n Provided circuit has type <class 'qiskit.circuit.quantumcircuit.QuantumCircuit'> and is:\n\n     ┌───────────┐                                              »\nq_0: ┤ U3(π,0,π) ├──────────────────────────────────────────────»\n     ├───────────┤     ┌───┐┌───────────┐                       »\nq_1: ┤ U3(π,0,π) ├─────┤ X ├┤ U3(π,0,π) ├───────────────────────»\n     └───────────┘┌───┐└─┬─┘├───────────┤                       »\nq_2: ─────────────┤ X ├──┼──┤ U3(π,0,π) ├────────────────────■──»\n                  └─┬─┘  │  └───────────┘                    │  »\nq_3: ───────────────┼────┼───────────────────────────────────┼──»\n     ┌───────────┐  │    │                                   │  »\nq_4: ┤ U3(π,0,π) ├──┼────┼───────────────────────────────────┼──»\n     ├───────────┤  │    │      ┌───┐                        │  »\nq_5: ┤ U3(π,0,π) ├──┼────■──────┤ X ├────────────────────────┼──»\n     └───────────┘  │           └─┬─┘    ┌────────────────┐┌─┴─┐»\nq_6: ───────────────■─────────────■──────┤ U3(phi1/4,0,0) ├┤ X ├»\n                                         └────────────────┘└───┘»\nq_7: ───────────────────────────────────────────────────────────»\n                                                                »\n«                                                                             »\n«q_0: ────────────────────────────────────────────────────────────────────────»\n«                                                                             »\n«q_1: ────────────────────────■───────────────────────────────────────────────»\n«                             │                                               »\n«q_2: ────────────────────────┼──────────────────────■────────────────────────»\n«                             │                      │                        »\n«q_3: ────────────────────────┼──────────────────────┼────────────────────────»\n«                             │                      │                        »\n«q_4: ────────────────────────┼──────────────────────┼────────────────────────»\n«                             │                      │                        »\n«q_5: ────────────────────────┼──────────────────────┼────────────────────────»\n«     ┌────────────────────┐┌─┴─┐┌────────────────┐┌─┴─┐┌────────────────────┐»\n«q_6: ┤ U3(-0.25*phi1,0,0) ├┤ X ├┤ U3(phi1/4,0,0) ├┤ X ├┤ U3(-0.25*phi1,0,0) ├»\n«     └────────────────────┘└───┘└────────────────┘└───┘└────────────────────┘»\n«q_7: ────────────────────────────────────────────────────────────────────────»\n«                                                                             »\n«                                                                              »\n«q_0: ─────────────────────────────────────────────────────────────────────────»\n«                                                              ┌───────────┐   »\n«q_1: ────────────────────────────────────────────────────■────┤ U3(π,0,π) ├───»\n«                                                         │    └───────────┘   »\n«q_2: ─────────────────────────■──────────────────────────┼────────────────────»\n«                              │                          │                    »\n«q_3: ─────────────────────────┼──────────────────────────┼────────────────────»\n«                              │                          │                    »\n«q_4: ─────────────────────────┼──────────────────────────┼────────────────────»\n«                              │                          │                    »\n«q_5: ──■──────────────────────┼──────────────────────────┼────────────────────»\n«     ┌─┴─┐┌────────────────┐┌─┴─┐┌────────────────────┐┌─┴─┐┌────────────────┐»\n«q_6: ┤ X ├┤ U3(phi1/4,0,0) ├┤ X ├┤ U3(-0.25*phi1,0,0) ├┤ X ├┤ U3(phi1/4,0,0) ├»\n«     └───┘└────────────────┘└───┘└────────────────────┘└───┘└────────────────┘»\n«q_7: ─────────────────────────────────────────────────────────────────────────»\n«                                                                              »\n«                                                    \n«q_0: ───────────────────────────────────────────────\n«                                          ┌───┐     \n«q_1: ─────────────────────────────────────┤ X ├─────\n«              ┌───────────┐               └─┬─┘┌───┐\n«q_2: ──■──────┤ U3(π,0,π) ├─────────────────┼──┤ X ├\n«       │      └───────────┘                 │  └─┬─┘\n«q_3: ──┼────────────────────────────────────┼────┼──\n«       │                                    │    │  \n«q_4: ──┼────────────────────────────────────┼────┼──\n«       │                             ┌───┐  │    │  \n«q_5: ──┼──────────────────────────■──┤ X ├──■────┼──\n«     ┌─┴─┐┌────────────────────┐┌─┴─┐└─┬─┘       │  \n«q_6: ┤ X ├┤ U3(-0.25*phi1,0,0) ├┤ X ├──■─────────■──\n«     └───┘└────────────────────┘└───┘               \n«q_7: ───────────────────────────────────────────────\n«                                                    \n\nCircuit types supported by Mitiq are \n{'cirq': 'Circuit', 'pyquil': 'Program', 'qiskit': 'QuantumCircuit', 'braket': 'Circuit', 'pennylane': 'QuantumTape'}."
     ]
    }
   ],
   "source": [
    "from mitiq.zne.scaling import fold_gates_at_random\n",
    "mitigated_result = zne.execute_with_zne(\n",
    "     circuit, executor_with_noise, factory=fac, scale_noise=fold_gates_at_random,\n",
    ")\n"
   ]
  },
  {
   "cell_type": "code",
   "execution_count": 73,
   "metadata": {},
   "outputs": [],
   "source": [
    "circuit = "
   ]
  },
  {
   "cell_type": "code",
   "execution_count": 74,
   "metadata": {},
   "outputs": [
    {
     "data": {
      "text/html": [
       "<pre style=\"word-wrap: normal;white-space: pre;background: #fff0;line-height: 1.1;font-family: &quot;Courier New&quot;,Courier,monospace\">     ┌───────────┐                                              »\n",
       "q_0: ┤ U3(π,0,π) ├──────────────────────────────────────────────»\n",
       "     ├───────────┤     ┌───┐┌───────────┐                       »\n",
       "q_1: ┤ U3(π,0,π) ├─────┤ X ├┤ U3(π,0,π) ├───────────────────────»\n",
       "     └───────────┘┌───┐└─┬─┘├───────────┤                       »\n",
       "q_2: ─────────────┤ X ├──┼──┤ U3(π,0,π) ├────────────────────■──»\n",
       "                  └─┬─┘  │  └───────────┘                    │  »\n",
       "q_3: ───────────────┼────┼───────────────────────────────────┼──»\n",
       "     ┌───────────┐  │    │                                   │  »\n",
       "q_4: ┤ U3(π,0,π) ├──┼────┼───────────────────────────────────┼──»\n",
       "     ├───────────┤  │    │      ┌───┐                        │  »\n",
       "q_5: ┤ U3(π,0,π) ├──┼────■──────┤ X ├────────────────────────┼──»\n",
       "     └───────────┘  │           └─┬─┘    ┌────────────────┐┌─┴─┐»\n",
       "q_6: ───────────────■─────────────■──────┤ U3(phi1/4,0,0) ├┤ X ├»\n",
       "                                         └────────────────┘└───┘»\n",
       "q_7: ───────────────────────────────────────────────────────────»\n",
       "                                                                »\n",
       "«                                                                             »\n",
       "«q_0: ────────────────────────────────────────────────────────────────────────»\n",
       "«                                                                             »\n",
       "«q_1: ────────────────────────■───────────────────────────────────────────────»\n",
       "«                             │                                               »\n",
       "«q_2: ────────────────────────┼──────────────────────■────────────────────────»\n",
       "«                             │                      │                        »\n",
       "«q_3: ────────────────────────┼──────────────────────┼────────────────────────»\n",
       "«                             │                      │                        »\n",
       "«q_4: ────────────────────────┼──────────────────────┼────────────────────────»\n",
       "«                             │                      │                        »\n",
       "«q_5: ────────────────────────┼──────────────────────┼────────────────────────»\n",
       "«     ┌────────────────────┐┌─┴─┐┌────────────────┐┌─┴─┐┌────────────────────┐»\n",
       "«q_6: ┤ U3(-0.25*phi1,0,0) ├┤ X ├┤ U3(phi1/4,0,0) ├┤ X ├┤ U3(-0.25*phi1,0,0) ├»\n",
       "«     └────────────────────┘└───┘└────────────────┘└───┘└────────────────────┘»\n",
       "«q_7: ────────────────────────────────────────────────────────────────────────»\n",
       "«                                                                             »\n",
       "«                                                                              »\n",
       "«q_0: ─────────────────────────────────────────────────────────────────────────»\n",
       "«                                                              ┌───────────┐   »\n",
       "«q_1: ────────────────────────────────────────────────────■────┤ U3(π,0,π) ├───»\n",
       "«                                                         │    └───────────┘   »\n",
       "«q_2: ─────────────────────────■──────────────────────────┼────────────────────»\n",
       "«                              │                          │                    »\n",
       "«q_3: ─────────────────────────┼──────────────────────────┼────────────────────»\n",
       "«                              │                          │                    »\n",
       "«q_4: ─────────────────────────┼──────────────────────────┼────────────────────»\n",
       "«                              │                          │                    »\n",
       "«q_5: ──■──────────────────────┼──────────────────────────┼────────────────────»\n",
       "«     ┌─┴─┐┌────────────────┐┌─┴─┐┌────────────────────┐┌─┴─┐┌────────────────┐»\n",
       "«q_6: ┤ X ├┤ U3(phi1/4,0,0) ├┤ X ├┤ U3(-0.25*phi1,0,0) ├┤ X ├┤ U3(phi1/4,0,0) ├»\n",
       "«     └───┘└────────────────┘└───┘└────────────────────┘└───┘└────────────────┘»\n",
       "«q_7: ─────────────────────────────────────────────────────────────────────────»\n",
       "«                                                                              »\n",
       "«                                                    \n",
       "«q_0: ───────────────────────────────────────────────\n",
       "«                                          ┌───┐     \n",
       "«q_1: ─────────────────────────────────────┤ X ├─────\n",
       "«              ┌───────────┐               └─┬─┘┌───┐\n",
       "«q_2: ──■──────┤ U3(π,0,π) ├─────────────────┼──┤ X ├\n",
       "«       │      └───────────┘                 │  └─┬─┘\n",
       "«q_3: ──┼────────────────────────────────────┼────┼──\n",
       "«       │                                    │    │  \n",
       "«q_4: ──┼────────────────────────────────────┼────┼──\n",
       "«       │                             ┌───┐  │    │  \n",
       "«q_5: ──┼──────────────────────────■──┤ X ├──■────┼──\n",
       "«     ┌─┴─┐┌────────────────────┐┌─┴─┐└─┬─┘       │  \n",
       "«q_6: ┤ X ├┤ U3(-0.25*phi1,0,0) ├┤ X ├──■─────────■──\n",
       "«     └───┘└────────────────────┘└───┘               \n",
       "«q_7: ───────────────────────────────────────────────\n",
       "«                                                    </pre>"
      ],
      "text/plain": [
       "     ┌───────────┐                                              »\n",
       "q_0: ┤ U3(π,0,π) ├──────────────────────────────────────────────»\n",
       "     ├───────────┤     ┌───┐┌───────────┐                       »\n",
       "q_1: ┤ U3(π,0,π) ├─────┤ X ├┤ U3(π,0,π) ├───────────────────────»\n",
       "     └───────────┘┌───┐└─┬─┘├───────────┤                       »\n",
       "q_2: ─────────────┤ X ├──┼──┤ U3(π,0,π) ├────────────────────■──»\n",
       "                  └─┬─┘  │  └───────────┘                    │  »\n",
       "q_3: ───────────────┼────┼───────────────────────────────────┼──»\n",
       "     ┌───────────┐  │    │                                   │  »\n",
       "q_4: ┤ U3(π,0,π) ├──┼────┼───────────────────────────────────┼──»\n",
       "     ├───────────┤  │    │      ┌───┐                        │  »\n",
       "q_5: ┤ U3(π,0,π) ├──┼────■──────┤ X ├────────────────────────┼──»\n",
       "     └───────────┘  │           └─┬─┘    ┌────────────────┐┌─┴─┐»\n",
       "q_6: ───────────────■─────────────■──────┤ U3(phi1/4,0,0) ├┤ X ├»\n",
       "                                         └────────────────┘└───┘»\n",
       "q_7: ───────────────────────────────────────────────────────────»\n",
       "                                                                »\n",
       "«                                                                             »\n",
       "«q_0: ────────────────────────────────────────────────────────────────────────»\n",
       "«                                                                             »\n",
       "«q_1: ────────────────────────■───────────────────────────────────────────────»\n",
       "«                             │                                               »\n",
       "«q_2: ────────────────────────┼──────────────────────■────────────────────────»\n",
       "«                             │                      │                        »\n",
       "«q_3: ────────────────────────┼──────────────────────┼────────────────────────»\n",
       "«                             │                      │                        »\n",
       "«q_4: ────────────────────────┼──────────────────────┼────────────────────────»\n",
       "«                             │                      │                        »\n",
       "«q_5: ────────────────────────┼──────────────────────┼────────────────────────»\n",
       "«     ┌────────────────────┐┌─┴─┐┌────────────────┐┌─┴─┐┌────────────────────┐»\n",
       "«q_6: ┤ U3(-0.25*phi1,0,0) ├┤ X ├┤ U3(phi1/4,0,0) ├┤ X ├┤ U3(-0.25*phi1,0,0) ├»\n",
       "«     └────────────────────┘└───┘└────────────────┘└───┘└────────────────────┘»\n",
       "«q_7: ────────────────────────────────────────────────────────────────────────»\n",
       "«                                                                             »\n",
       "«                                                                              »\n",
       "«q_0: ─────────────────────────────────────────────────────────────────────────»\n",
       "«                                                              ┌───────────┐   »\n",
       "«q_1: ────────────────────────────────────────────────────■────┤ U3(π,0,π) ├───»\n",
       "«                                                         │    └───────────┘   »\n",
       "«q_2: ─────────────────────────■──────────────────────────┼────────────────────»\n",
       "«                              │                          │                    »\n",
       "«q_3: ─────────────────────────┼──────────────────────────┼────────────────────»\n",
       "«                              │                          │                    »\n",
       "«q_4: ─────────────────────────┼──────────────────────────┼────────────────────»\n",
       "«                              │                          │                    »\n",
       "«q_5: ──■──────────────────────┼──────────────────────────┼────────────────────»\n",
       "«     ┌─┴─┐┌────────────────┐┌─┴─┐┌────────────────────┐┌─┴─┐┌────────────────┐»\n",
       "«q_6: ┤ X ├┤ U3(phi1/4,0,0) ├┤ X ├┤ U3(-0.25*phi1,0,0) ├┤ X ├┤ U3(phi1/4,0,0) ├»\n",
       "«     └───┘└────────────────┘└───┘└────────────────────┘└───┘└────────────────┘»\n",
       "«q_7: ─────────────────────────────────────────────────────────────────────────»\n",
       "«                                                                              »\n",
       "«                                                    \n",
       "«q_0: ───────────────────────────────────────────────\n",
       "«                                          ┌───┐     \n",
       "«q_1: ─────────────────────────────────────┤ X ├─────\n",
       "«              ┌───────────┐               └─┬─┘┌───┐\n",
       "«q_2: ──■──────┤ U3(π,0,π) ├─────────────────┼──┤ X ├\n",
       "«       │      └───────────┘                 │  └─┬─┘\n",
       "«q_3: ──┼────────────────────────────────────┼────┼──\n",
       "«       │                                    │    │  \n",
       "«q_4: ──┼────────────────────────────────────┼────┼──\n",
       "«       │                             ┌───┐  │    │  \n",
       "«q_5: ──┼──────────────────────────■──┤ X ├──■────┼──\n",
       "«     ┌─┴─┐┌────────────────────┐┌─┴─┐└─┬─┘       │  \n",
       "«q_6: ┤ X ├┤ U3(-0.25*phi1,0,0) ├┤ X ├──■─────────■──\n",
       "«     └───┘└────────────────────┘└───┘               \n",
       "«q_7: ───────────────────────────────────────────────\n",
       "«                                                    "
      ]
     },
     "execution_count": 74,
     "metadata": {},
     "output_type": "execute_result"
    }
   ],
   "source": [
    "circuit.draw()"
   ]
  },
  {
   "cell_type": "code",
   "execution_count": null,
   "metadata": {},
   "outputs": [],
   "source": []
  },
  {
   "cell_type": "code",
   "execution_count": 76,
   "metadata": {},
   "outputs": [],
   "source": [
    "mitigated_expectations = [mitigated_executor(qiskit.compiler.transpile(create_ansatz(list_T2, [g]), basis_gates=[\"u1\", \"u2\", \"u3\", \"cx\",'cx_o0'])) for g in gammas]"
   ]
  },
  {
   "cell_type": "code",
   "execution_count": 78,
   "metadata": {},
   "outputs": [
    {
     "data": {
      "text/plain": [
       "[-2.0597078247175435,\n",
       " -2.0251488725189053,\n",
       " -1.988045679406494,\n",
       " -1.95317847799188,\n",
       " -1.922827941089258,\n",
       " -1.8989793054221298,\n",
       " -1.8831925172370931,\n",
       " -1.8765001943985813,\n",
       " -1.8793400836483005,\n",
       " -1.8915264269983374,\n",
       " -1.9122621123780523,\n",
       " -1.940190813238746,\n",
       " -1.9734857050740515,\n",
       " -2.0099689601437833,\n",
       " -2.0472541991167743,\n",
       " -2.0829025835873014,\n",
       " -2.1145823433425575,\n",
       " -2.1402212968481815,\n",
       " -2.1581423926431955,\n",
       " -2.167173407234094,\n",
       " -2.1667236194351673,\n",
       " -2.156822449998154,\n",
       " -2.1381175371664245,\n",
       " -2.11183237411476,\n",
       " -2.0796862810598644,\n",
       " -2.0437819425177026,\n",
       " -2.0064678710923594,\n",
       " -1.970184790058733,\n",
       " -1.9373059863781126,\n",
       " -1.909982071227164,\n",
       " -1.8900003092140398,\n",
       " -1.8786677132466199,\n",
       " -1.876725551292302,\n",
       " -1.8843008608154759,\n",
       " -1.900898138600672,\n",
       " -1.92543175219642,\n",
       " -1.95629695155453,\n",
       " -1.9914748349415345,\n",
       " -2.0286644076582103,\n",
       " -2.0654330899318993,\n",
       " -2.0993758314819417,\n",
       " -2.1282724286664063,\n",
       " -2.1502327473361826,\n",
       " -2.1638203566127703,\n",
       " -2.1681464875090195,\n",
       " -2.1629281665225193,\n",
       " -2.148506725557937,\n",
       " -2.1258254750086896,\n",
       " -2.0963680013607715,\n",
       " -2.0620611265964515]"
      ]
     },
     "execution_count": 78,
     "metadata": {},
     "output_type": "execute_result"
    }
   ],
   "source": [
    "(mitigated_expectations)"
   ]
  },
  {
   "cell_type": "code",
   "execution_count": 77,
   "metadata": {},
   "outputs": [
    {
     "data": {
      "image/png": "[encoded data removed]",
      "text/plain": [
       "<Figure size 800x600 with 1 Axes>"
      ]
     },
     "metadata": {},
     "output_type": "display_data"
    }
   ],
   "source": [
    "plt.figure(figsize=(8, 6))\n",
    "plt.plot(gammas, noiseless_expectations, color=\"g\", linewidth=3, label=\"Noiseless\")\n",
    "plt.scatter(gammas, expectations, color=\"r\", label=\"Unmitigated\")\n",
    "plt.scatter(gammas, mitigated_expectations, color=\"b\", label=\"Mitigated\")\n",
    "plt.title(rf\"Energy landscape\", fontsize=16)\n",
    "plt.xlabel(r\"Variational angle $\\gamma$\", fontsize=16)\n",
    "plt.ylabel(r\"$\\langle H \\rangle(\\gamma)$\", fontsize=16)\n",
    "plt.legend(fontsize=14)\n",
    "plt.ylim(-3, 1);\n",
    "plt.show()"
   ]
  }
 ],
 "metadata": {
  "kernelspec": {
   "display_name": ".venv",
   "language": "python",
   "name": "python3"
  },
  "language_info": {
   "codemirror_mode": {
    "name": "ipython",
    "version": 3
   },
   "file_extension": ".py",
   "mimetype": "text/x-python",
   "name": "python",
   "nbconvert_exporter": "python",
   "pygments_lexer": "ipython3",
   "version": "3.8.10"
  }
 },
 "nbformat": 4,
 "nbformat_minor": 2
}
